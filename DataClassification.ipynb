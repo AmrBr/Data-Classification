{
  "nbformat": 4,
  "nbformat_minor": 0,
  "metadata": {
    "colab": {
      "name": "DataClassification.ipynb",
      "provenance": [],
      "collapsed_sections": [],
      "include_colab_link": true
    },
    "kernelspec": {
      "name": "python3",
      "display_name": "Python 3"
    },
    "language_info": {
      "name": "python"
    }
  },
  "cells": [
    {
      "cell_type": "markdown",
      "metadata": {
        "id": "view-in-github",
        "colab_type": "text"
      },
      "source": [
        "<a href=\"https://colab.research.google.com/github/AmrMohamadSalah/Data-Classification/blob/main/DataClassification.ipynb\" target=\"_parent\"><img src=\"https://colab.research.google.com/assets/colab-badge.svg\" alt=\"Open In Colab\"/></a>"
      ]
    },
    {
      "cell_type": "code",
      "source": [
        "# Code to read file into Colaboratory:\n",
        "! pip install -U -q PyDrive\n",
        "from pydrive.auth import GoogleAuth\n",
        "from pydrive.drive import GoogleDrive\n",
        "from google.colab import auth\n",
        "from oauth2client.client import GoogleCredentials\n",
        "# Authenticate and create the PyDrive client.\n",
        "auth.authenticate_user()\n",
        "gauth = GoogleAuth()\n",
        "gauth.credentials = GoogleCredentials.get_application_default()\n",
        "drive = GoogleDrive(gauth)"
      ],
      "metadata": {
        "id": "GtjbMpl9wC-Q"
      },
      "execution_count": null,
      "outputs": []
    },
    {
      "cell_type": "code",
      "source": [
        "link = 'https://drive.google.com/file/d/1RqBOAVQyZOQLPBN6eNDbBOWLDNIB_LR6/view?usp=sharing' # The shareable link\n",
        "# to get the id part of the file\n",
        "id = link.split(\"/\")[-2]\n",
        "downloaded = drive.CreateFile({'id':id})\n",
        "downloaded.GetContentFile('magic04.data')"
      ],
      "metadata": {
        "id": "UDg55emnUpX2"
      },
      "execution_count": null,
      "outputs": []
    },
    {
      "cell_type": "code",
      "source": [
        "import pandas as pd\n",
        "import numpy as np\n",
        "import io\n",
        "from imblearn.under_sampling import RandomUnderSampler\n",
        "from sklearn.model_selection import train_test_split"
      ],
      "metadata": {
        "id": "2ObRz6YfU3Tt"
      },
      "execution_count": null,
      "outputs": []
    },
    {
      "cell_type": "code",
      "source": [
        "dataframe = pd.read_csv('magic04.data')"
      ],
      "metadata": {
        "id": "tCrUGDGrUyMG"
      },
      "execution_count": null,
      "outputs": []
    },
    {
      "cell_type": "code",
      "source": [
        "data, labels = dataframe.iloc[:, :-1], dataframe.iloc[:, -1]\n",
        "rus = RandomUnderSampler()\n",
        "data_res, labels_res = rus.fit_resample(data, labels)\n",
        "data_res, labels_res = np.array(data_res), np.array(labels_res)\n",
        "x_train, x_test, y_train, y_test = train_test_split(data_res, labels_res, test_size=0.3, stratify=labels_res)"
      ],
      "metadata": {
        "id": "i0bpkYIHVn79"
      },
      "execution_count": null,
      "outputs": []
    },
    {
      "cell_type": "code",
      "source": [
        "print(np.unique(y_test, return_counts=True))"
      ],
      "metadata": {
        "id": "fMToqtjEnOlT",
        "colab": {
          "base_uri": "https://localhost:8080/"
        },
        "outputId": "f5920abb-8653-4519-eacb-468d0fa3f05b"
      },
      "execution_count": null,
      "outputs": [
        {
          "output_type": "stream",
          "name": "stdout",
          "text": [
            "(array(['g', 'h'], dtype=object), array([2007, 2006]))\n"
          ]
        }
      ]
    },
    {
      "cell_type": "code",
      "source": [
        "import torch \n",
        "import torch.nn.functional as F\n",
        "from torch import flatten\n",
        "from sklearn.metrics import classification_report, accuracy_score\n",
        "from torch.utils.data import DataLoader\n",
        "from torch.optim import Adam\n",
        "from torch import nn\n",
        "import time\n",
        "from torch.utils.data import Dataset\n",
        "from torchvision import datasets\n",
        "from torchvision.transforms import ToTensor\n",
        "import math"
      ],
      "metadata": {
        "id": "uJ4ewn1eWwln"
      },
      "execution_count": null,
      "outputs": []
    },
    {
      "cell_type": "code",
      "source": [
        "class MagicDataset(Dataset):\n",
        "    def __init__(self, data, labels):\n",
        "        self.labels = labels\n",
        "        self.data = data\n",
        "        self.dict_labels = {'g': 0, 'h': 1}\n",
        "\n",
        "    def __len__(self):\n",
        "        return len(self.labels)\n",
        "\n",
        "    def __getitem__(self, index):\n",
        "        data = torch.tensor(self.data[index])\n",
        "        label = self.labels[index]\n",
        "        return data, torch.tensor(self.dict_labels[label])"
      ],
      "metadata": {
        "id": "_GMUt5FXXF1f"
      },
      "execution_count": null,
      "outputs": []
    },
    {
      "cell_type": "code",
      "source": [
        "class TestModel(nn.Module):\n",
        "    def __init__(self):\n",
        "        super(TestModel, self).__init__()\n",
        "        self.fc1 = nn.Linear(10, 32)\n",
        "        self.fc2 = nn.Linear(32, 16)\n",
        "        self.fc3 = nn.Linear(16, 1)\n",
        "\n",
        "    def forward(self, x):\n",
        "        x = F.relu(self.fc1(x))\n",
        "        x = F.relu(self.fc2(x))\n",
        "        x = self.fc3(x)\n",
        "        return torch.sigmoid(x)"
      ],
      "metadata": {
        "id": "l6CiFYeTXRwi"
      },
      "execution_count": null,
      "outputs": []
    },
    {
      "cell_type": "code",
      "source": [
        "training_data = MagicDataset(x_train, y_train)\n",
        "testing_data = MagicDataset(x_test, y_test)"
      ],
      "metadata": {
        "id": "lce-mEsRXyE_"
      },
      "execution_count": null,
      "outputs": []
    },
    {
      "cell_type": "code",
      "source": [
        "INIT_LR = 1e-5\n",
        "BATCH_SIZE = 64\n",
        "EPOCHS = 50\n",
        "trainDataLoader = DataLoader(training_data, shuffle=True, batch_size=BATCH_SIZE)\n",
        "testDataLoader = DataLoader(testing_data, batch_size=BATCH_SIZE)\n",
        "\n",
        "trainSteps = len(trainDataLoader.dataset) // BATCH_SIZE"
      ],
      "metadata": {
        "id": "L5GzAhrgYJsX"
      },
      "execution_count": null,
      "outputs": []
    },
    {
      "cell_type": "code",
      "source": [
        "def tvt(optimizer, mode, model, dataloader):\n",
        "  if mode == 'train':\n",
        "    model.train()\n",
        "    numberOfBatches = trainSteps\n",
        "\n",
        "  totalLoss = 0\n",
        "  correctPred = 0\n",
        "  preds = []\n",
        "  batchNumber = 1\n",
        "  lossFn = nn.BCELoss()\n",
        "  for (data, labels) in dataloader:\n",
        "        data = data.float()\n",
        "\n",
        "        pred = model(data)\n",
        "        pred = pred.squeeze(1)\n",
        "        temp = pred.detach().numpy().copy()\n",
        "        for i in range(len(pred)):\n",
        "          temp[i] = 0. if temp[i] <= 0.5 else 1.\n",
        "        # temp = torch.from_numpy(temp).requires_grad_()\n",
        "        loss = lossFn(pred, labels.float())\n",
        "        totalLoss += loss\n",
        "        compare = [1 if i==j else 0 for i, j in zip(temp,labels)]\n",
        "        correctPred += np.array(compare).sum()\n",
        "        if mode == 'train':\n",
        "          opt.zero_grad() \n",
        "          loss.backward()  \n",
        "          opt.step()\n",
        "        \n",
        "        preds.extend(np.array(compare))\n",
        "\n",
        "        batchNumber += 1\n",
        "  return totalLoss/len(dataloader), correctPred, preds"
      ],
      "metadata": {
        "id": "O6RyWkpJW62p"
      },
      "execution_count": null,
      "outputs": []
    },
    {
      "cell_type": "code",
      "source": [
        "model = TestModel()\n",
        "opt = Adam(model.parameters(), lr=INIT_LR)\n",
        "print(\"Training Model\")\n",
        "for e in range(EPOCHS):\n",
        "  print('Epoch {0}/{1}'.format(e+1,EPOCHS))\n",
        "  avgTrainLoss, correctPred, _ = tvt(opt, 'train', model, trainDataLoader)\n",
        "  print(\"Train loss: {:.6f}, Train accuracy: {:.4f}\".format(avgTrainLoss, correctPred/len(trainDataLoader.dataset)))\n",
        "\n",
        "print('\\nTesting:')\n",
        "_,  _, preds = tvt(opt, 'test', model, testDataLoader)\n",
        "enumLabels = []\n",
        "for label in testing_data.labels:\n",
        "    enumLabels.append(testing_data.dict_labels[label])\n",
        "print(classification_report(np.array(enumLabels), np.array(preds)))\n",
        "accuracy = accuracy_score(enumLabels, preds)\n",
        "print('Accuracy = {0} '.format(accuracy))"
      ],
      "metadata": {
        "id": "qNPGCZ25XHpI"
      },
      "execution_count": null,
      "outputs": []
    }
  ]
}